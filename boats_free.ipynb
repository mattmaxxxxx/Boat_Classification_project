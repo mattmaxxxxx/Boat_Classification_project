{
 "cells": [
  {
   "cell_type": "markdown",
   "id": "4593377c",
   "metadata": {
    "papermill": {
     "duration": 0.006961,
     "end_time": "2022-07-10T21:52:43.834298",
     "exception": false,
     "start_time": "2022-07-10T21:52:43.827337",
     "status": "completed"
    },
    "tags": []
   },
   "source": [
    "Matthieu SCHLIENGER"
   ]
  },
  {
   "cell_type": "code",
   "execution_count": 1,
   "id": "616cb8ae",
   "metadata": {
    "execution": {
     "iopub.execute_input": "2022-07-10T21:52:43.848905Z",
     "iopub.status.busy": "2022-07-10T21:52:43.847887Z",
     "iopub.status.idle": "2022-07-10T21:52:43.862213Z",
     "shell.execute_reply": "2022-07-10T21:52:43.860927Z"
    },
    "papermill": {
     "duration": 0.024312,
     "end_time": "2022-07-10T21:52:43.864967",
     "exception": false,
     "start_time": "2022-07-10T21:52:43.840655",
     "status": "completed"
    },
    "tags": []
   },
   "outputs": [
    {
     "name": "stdout",
     "output_type": "stream",
     "text": [
      "/kaggle/input/navire-2022-libre/ships.tgz\n"
     ]
    }
   ],
   "source": [
    "# This Python 3 environment comes with many helpful analytics libraries installed\n",
    "# It is defined by the kaggle/python Docker image: https://github.com/kaggle/docker-python\n",
    "# For example, here's several helpful packages to load\n",
    "\n",
    "import numpy as np # linear algebra\n",
    "import pandas as pd # data processing, CSV file I/O (e.g. pd.read_csv)\n",
    "\n",
    "# Input data files are available in the read-only \"../input/\" directory\n",
    "# For example, running this (by clicking run or pressing Shift+Enter) will list all files under the input directory\n",
    "\n",
    "import os\n",
    "for dirname, _, filenames in os.walk('/kaggle/input'):\n",
    "    for filename in filenames:\n",
    "        print(os.path.join(dirname, filename))\n",
    "\n",
    "# You can write up to 20GB to the current directory (/kaggle/working/) that gets preserved as output when you create a version using \"Save & Run All\" \n",
    "# You can also write temporary files to /kaggle/temp/, but they won't be saved outside of the current session"
   ]
  },
  {
   "cell_type": "code",
   "execution_count": 2,
   "id": "1c2bdd89",
   "metadata": {
    "execution": {
     "iopub.execute_input": "2022-07-10T21:52:43.879294Z",
     "iopub.status.busy": "2022-07-10T21:52:43.878806Z",
     "iopub.status.idle": "2022-07-10T21:52:47.317478Z",
     "shell.execute_reply": "2022-07-10T21:52:47.316176Z"
    },
    "papermill": {
     "duration": 3.449042,
     "end_time": "2022-07-10T21:52:47.320409",
     "exception": false,
     "start_time": "2022-07-10T21:52:43.871367",
     "status": "completed"
    },
    "tags": []
   },
   "outputs": [],
   "source": [
    "!tar xzf /kaggle/input/navire-2022-libre/ships.tgz"
   ]
  },
  {
   "cell_type": "code",
   "execution_count": 3,
   "id": "f2a272e1",
   "metadata": {
    "execution": {
     "iopub.execute_input": "2022-07-10T21:52:47.335377Z",
     "iopub.status.busy": "2022-07-10T21:52:47.334405Z",
     "iopub.status.idle": "2022-07-10T21:52:52.191383Z",
     "shell.execute_reply": "2022-07-10T21:52:52.190285Z"
    },
    "papermill": {
     "duration": 4.866877,
     "end_time": "2022-07-10T21:52:52.193873",
     "exception": false,
     "start_time": "2022-07-10T21:52:47.326996",
     "status": "completed"
    },
    "tags": []
   },
   "outputs": [],
   "source": [
    "import numpy as np\n",
    "import PIL\n",
    "import tensorflow as tf\n",
    "from tensorflow.keras import layers\n",
    "from tensorflow.keras.models import Sequential\n",
    "from tensorflow.keras.optimizers import Adam"
   ]
  },
  {
   "cell_type": "code",
   "execution_count": 4,
   "id": "624a847b",
   "metadata": {
    "execution": {
     "iopub.execute_input": "2022-07-10T21:52:52.210611Z",
     "iopub.status.busy": "2022-07-10T21:52:52.209600Z",
     "iopub.status.idle": "2022-07-10T21:52:52.897789Z",
     "shell.execute_reply": "2022-07-10T21:52:52.896695Z"
    },
    "papermill": {
     "duration": 0.700377,
     "end_time": "2022-07-10T21:52:52.900441",
     "exception": false,
     "start_time": "2022-07-10T21:52:52.200064",
     "status": "completed"
    },
    "tags": []
   },
   "outputs": [
    {
     "name": "stdout",
     "output_type": "stream",
     "text": [
      "__notebook__.ipynb  ships32  ships_competition.npz\r\n"
     ]
    }
   ],
   "source": [
    "!ls /kaggle/working"
   ]
  },
  {
   "cell_type": "code",
   "execution_count": 5,
   "id": "ebde834e",
   "metadata": {
    "execution": {
     "iopub.execute_input": "2022-07-10T21:52:52.913647Z",
     "iopub.status.busy": "2022-07-10T21:52:52.913340Z",
     "iopub.status.idle": "2022-07-10T21:52:52.918267Z",
     "shell.execute_reply": "2022-07-10T21:52:52.917267Z"
    },
    "papermill": {
     "duration": 0.013958,
     "end_time": "2022-07-10T21:52:52.920259",
     "exception": false,
     "start_time": "2022-07-10T21:52:52.906301",
     "status": "completed"
    },
    "tags": []
   },
   "outputs": [],
   "source": [
    "SEED = 123\n",
    "np.random.seed(SEED)\n",
    "tf.random.set_seed(SEED)"
   ]
  },
  {
   "cell_type": "markdown",
   "id": "c60ee105",
   "metadata": {
    "papermill": {
     "duration": 0.005603,
     "end_time": "2022-07-10T21:52:52.931789",
     "exception": false,
     "start_time": "2022-07-10T21:52:52.926186",
     "status": "completed"
    },
    "tags": []
   },
   "source": [
    "# Lire les images"
   ]
  },
  {
   "cell_type": "code",
   "execution_count": 6,
   "id": "820e694f",
   "metadata": {
    "execution": {
     "iopub.execute_input": "2022-07-10T21:52:52.944289Z",
     "iopub.status.busy": "2022-07-10T21:52:52.944023Z",
     "iopub.status.idle": "2022-07-10T21:52:58.725166Z",
     "shell.execute_reply": "2022-07-10T21:52:58.724174Z"
    },
    "papermill": {
     "duration": 5.790391,
     "end_time": "2022-07-10T21:52:58.727857",
     "exception": false,
     "start_time": "2022-07-10T21:52:52.937466",
     "status": "completed"
    },
    "tags": []
   },
   "outputs": [
    {
     "name": "stdout",
     "output_type": "stream",
     "text": [
      "Found 51284 files belonging to 13 classes.\n",
      "Using 46156 files for training.\n"
     ]
    },
    {
     "name": "stderr",
     "output_type": "stream",
     "text": [
      "2022-07-10 21:52:54.773209: I tensorflow/stream_executor/cuda/cuda_gpu_executor.cc:937] successful NUMA node read from SysFS had negative value (-1), but there must be at least one NUMA node, so returning NUMA node zero\n",
      "2022-07-10 21:52:54.859411: I tensorflow/stream_executor/cuda/cuda_gpu_executor.cc:937] successful NUMA node read from SysFS had negative value (-1), but there must be at least one NUMA node, so returning NUMA node zero\n",
      "2022-07-10 21:52:54.860214: I tensorflow/stream_executor/cuda/cuda_gpu_executor.cc:937] successful NUMA node read from SysFS had negative value (-1), but there must be at least one NUMA node, so returning NUMA node zero\n",
      "2022-07-10 21:52:54.866363: I tensorflow/core/platform/cpu_feature_guard.cc:142] This TensorFlow binary is optimized with oneAPI Deep Neural Network Library (oneDNN) to use the following CPU instructions in performance-critical operations:  AVX2 AVX512F FMA\n",
      "To enable them in other operations, rebuild TensorFlow with the appropriate compiler flags.\n",
      "2022-07-10 21:52:54.866625: I tensorflow/stream_executor/cuda/cuda_gpu_executor.cc:937] successful NUMA node read from SysFS had negative value (-1), but there must be at least one NUMA node, so returning NUMA node zero\n",
      "2022-07-10 21:52:54.867349: I tensorflow/stream_executor/cuda/cuda_gpu_executor.cc:937] successful NUMA node read from SysFS had negative value (-1), but there must be at least one NUMA node, so returning NUMA node zero\n",
      "2022-07-10 21:52:54.867978: I tensorflow/stream_executor/cuda/cuda_gpu_executor.cc:937] successful NUMA node read from SysFS had negative value (-1), but there must be at least one NUMA node, so returning NUMA node zero\n",
      "2022-07-10 21:52:56.820171: I tensorflow/stream_executor/cuda/cuda_gpu_executor.cc:937] successful NUMA node read from SysFS had negative value (-1), but there must be at least one NUMA node, so returning NUMA node zero\n",
      "2022-07-10 21:52:56.821110: I tensorflow/stream_executor/cuda/cuda_gpu_executor.cc:937] successful NUMA node read from SysFS had negative value (-1), but there must be at least one NUMA node, so returning NUMA node zero\n",
      "2022-07-10 21:52:56.821901: I tensorflow/stream_executor/cuda/cuda_gpu_executor.cc:937] successful NUMA node read from SysFS had negative value (-1), but there must be at least one NUMA node, so returning NUMA node zero\n",
      "2022-07-10 21:52:56.822522: I tensorflow/core/common_runtime/gpu/gpu_device.cc:1510] Created device /job:localhost/replica:0/task:0/device:GPU:0 with 15403 MB memory:  -> device: 0, name: Tesla P100-PCIE-16GB, pci bus id: 0000:00:04.0, compute capability: 6.0\n"
     ]
    },
    {
     "name": "stdout",
     "output_type": "stream",
     "text": [
      "Found 51284 files belonging to 13 classes.\n",
      "Using 5128 files for validation.\n"
     ]
    }
   ],
   "source": [
    "image_size = (32, 32)\n",
    "batch_size = 32\n",
    "\n",
    "train_ds = tf.keras.utils.image_dataset_from_directory(\n",
    "    \"/kaggle/working/ships32\",\n",
    "    validation_split=0.1,\n",
    "    subset=\"training\",\n",
    "    seed=SEED,\n",
    "    image_size=image_size,\n",
    "    batch_size=batch_size,\n",
    ")\n",
    "\n",
    "val_ds = tf.keras.utils.image_dataset_from_directory(\n",
    "    \"/kaggle/working/ships32\",\n",
    "    validation_split=0.1,\n",
    "    subset=\"validation\",\n",
    "    seed=SEED,\n",
    "    image_size=image_size,\n",
    "    batch_size=batch_size,\n",
    ")"
   ]
  },
  {
   "cell_type": "markdown",
   "id": "a8a07c89",
   "metadata": {
    "papermill": {
     "duration": 0.006049,
     "end_time": "2022-07-10T21:52:58.741010",
     "exception": false,
     "start_time": "2022-07-10T21:52:58.734961",
     "status": "completed"
    },
    "tags": []
   },
   "source": [
    "# Configuration du modèle"
   ]
  },
  {
   "cell_type": "markdown",
   "id": "72967ac3",
   "metadata": {
    "papermill": {
     "duration": 0.00603,
     "end_time": "2022-07-10T21:52:58.752999",
     "exception": false,
     "start_time": "2022-07-10T21:52:58.746969",
     "status": "completed"
    },
    "tags": []
   },
   "source": [
    "#### Pour avoir des pérformances optimales nous allons utiliser dans ce cas-ci le transfert learning. Le transfert learning utilise un modèle pré-entrainé comme point de départ du modèle principale et va rajouter des couches à la suite.\n",
    "#### Le VGG-16 est l'un des modèles pré-entraînés les plus populaires pour la classification d'images."
   ]
  },
  {
   "cell_type": "code",
   "execution_count": 7,
   "id": "20badeca",
   "metadata": {
    "execution": {
     "iopub.execute_input": "2022-07-10T21:52:58.767725Z",
     "iopub.status.busy": "2022-07-10T21:52:58.766325Z",
     "iopub.status.idle": "2022-07-10T21:52:59.531604Z",
     "shell.execute_reply": "2022-07-10T21:52:59.530615Z"
    },
    "papermill": {
     "duration": 0.775028,
     "end_time": "2022-07-10T21:52:59.534217",
     "exception": false,
     "start_time": "2022-07-10T21:52:58.759189",
     "status": "completed"
    },
    "tags": []
   },
   "outputs": [
    {
     "name": "stdout",
     "output_type": "stream",
     "text": [
      "Downloading data from https://storage.googleapis.com/tensorflow/keras-applications/vgg16/vgg16_weights_tf_dim_ordering_tf_kernels_notop.h5\n",
      "58892288/58889256 [==============================] - 0s 0us/step\n",
      "58900480/58889256 [==============================] - 0s 0us/step\n"
     ]
    }
   ],
   "source": [
    "conv_model = tf.keras.applications.VGG16(weights='imagenet', include_top=False, input_shape=(32,32,3))\n",
    "\n",
    "conv_model.trainable = False\n",
    "\n",
    "x = tf.keras.layers.Flatten()(conv_model.output)\n",
    "# three hidden layers\n",
    "x = tf.keras.layers.Dense(128, activation='relu')(x)\n",
    "x = tf.keras.layers.Dense(128, activation='relu')(x)\n",
    "# final softmax layer with two categories (dog and cat)\n",
    "predictions = tf.keras.layers.Dense(13, activation='softmax')(x)\n",
    "\n",
    "\n",
    "\n",
    "# creating the full model:\n",
    "full_model = tf.keras.models.Model(inputs=conv_model.input, outputs=predictions)"
   ]
  },
  {
   "cell_type": "code",
   "execution_count": 8,
   "id": "e4000f31",
   "metadata": {
    "execution": {
     "iopub.execute_input": "2022-07-10T21:52:59.549216Z",
     "iopub.status.busy": "2022-07-10T21:52:59.548904Z",
     "iopub.status.idle": "2022-07-10T21:52:59.556307Z",
     "shell.execute_reply": "2022-07-10T21:52:59.555270Z"
    },
    "papermill": {
     "duration": 0.01985,
     "end_time": "2022-07-10T21:52:59.561096",
     "exception": false,
     "start_time": "2022-07-10T21:52:59.541246",
     "status": "completed"
    },
    "tags": []
   },
   "outputs": [
    {
     "name": "stdout",
     "output_type": "stream",
     "text": [
      "Model: \"model\"\n",
      "_________________________________________________________________\n",
      "Layer (type)                 Output Shape              Param #   \n",
      "=================================================================\n",
      "input_1 (InputLayer)         [(None, 32, 32, 3)]       0         \n",
      "_________________________________________________________________\n",
      "block1_conv1 (Conv2D)        (None, 32, 32, 64)        1792      \n",
      "_________________________________________________________________\n",
      "block1_conv2 (Conv2D)        (None, 32, 32, 64)        36928     \n",
      "_________________________________________________________________\n",
      "block1_pool (MaxPooling2D)   (None, 16, 16, 64)        0         \n",
      "_________________________________________________________________\n",
      "block2_conv1 (Conv2D)        (None, 16, 16, 128)       73856     \n",
      "_________________________________________________________________\n",
      "block2_conv2 (Conv2D)        (None, 16, 16, 128)       147584    \n",
      "_________________________________________________________________\n",
      "block2_pool (MaxPooling2D)   (None, 8, 8, 128)         0         \n",
      "_________________________________________________________________\n",
      "block3_conv1 (Conv2D)        (None, 8, 8, 256)         295168    \n",
      "_________________________________________________________________\n",
      "block3_conv2 (Conv2D)        (None, 8, 8, 256)         590080    \n",
      "_________________________________________________________________\n",
      "block3_conv3 (Conv2D)        (None, 8, 8, 256)         590080    \n",
      "_________________________________________________________________\n",
      "block3_pool (MaxPooling2D)   (None, 4, 4, 256)         0         \n",
      "_________________________________________________________________\n",
      "block4_conv1 (Conv2D)        (None, 4, 4, 512)         1180160   \n",
      "_________________________________________________________________\n",
      "block4_conv2 (Conv2D)        (None, 4, 4, 512)         2359808   \n",
      "_________________________________________________________________\n",
      "block4_conv3 (Conv2D)        (None, 4, 4, 512)         2359808   \n",
      "_________________________________________________________________\n",
      "block4_pool (MaxPooling2D)   (None, 2, 2, 512)         0         \n",
      "_________________________________________________________________\n",
      "block5_conv1 (Conv2D)        (None, 2, 2, 512)         2359808   \n",
      "_________________________________________________________________\n",
      "block5_conv2 (Conv2D)        (None, 2, 2, 512)         2359808   \n",
      "_________________________________________________________________\n",
      "block5_conv3 (Conv2D)        (None, 2, 2, 512)         2359808   \n",
      "_________________________________________________________________\n",
      "block5_pool (MaxPooling2D)   (None, 1, 1, 512)         0         \n",
      "_________________________________________________________________\n",
      "flatten (Flatten)            (None, 512)               0         \n",
      "_________________________________________________________________\n",
      "dense (Dense)                (None, 128)               65664     \n",
      "_________________________________________________________________\n",
      "dense_1 (Dense)              (None, 128)               16512     \n",
      "_________________________________________________________________\n",
      "dense_2 (Dense)              (None, 13)                1677      \n",
      "=================================================================\n",
      "Total params: 14,798,541\n",
      "Trainable params: 83,853\n",
      "Non-trainable params: 14,714,688\n",
      "_________________________________________________________________\n"
     ]
    }
   ],
   "source": [
    "full_model.summary()"
   ]
  },
  {
   "cell_type": "code",
   "execution_count": 9,
   "id": "1d2d570d",
   "metadata": {
    "execution": {
     "iopub.execute_input": "2022-07-10T21:52:59.576015Z",
     "iopub.status.busy": "2022-07-10T21:52:59.575742Z",
     "iopub.status.idle": "2022-07-10T21:52:59.583017Z",
     "shell.execute_reply": "2022-07-10T21:52:59.582160Z"
    },
    "papermill": {
     "duration": 0.017154,
     "end_time": "2022-07-10T21:52:59.585110",
     "exception": false,
     "start_time": "2022-07-10T21:52:59.567956",
     "status": "completed"
    },
    "tags": []
   },
   "outputs": [],
   "source": [
    "from tensorflow.keras.callbacks import (EarlyStopping, ModelCheckpoint, ReduceLROnPlateau)\n",
    "\n",
    "early_stopping = EarlyStopping(monitor='val_loss',\n",
    "                               patience=4, restore_best_weights=True)\n",
    "\n",
    "# save best model indicating epoch\n",
    "model_save = ModelCheckpoint('./weights/Custom_model_{epoch}.h5',\n",
    "                             save_best_only=True, monitor='val_loss', verbose=1)\n",
    "# Folder to save weights\n",
    "if not os.path.exists('./weights'):\n",
    "    os.makedirs('./weights', mode=0o770, exist_ok=True)\n",
    "    \n",
    "# reduce learning rate if val_loss does not decrease in 2 epochs, cooldown of 1 epoch\n",
    "reduce_lr = ReduceLROnPlateau(monitor='val_loss', factor=0.1, patience=2, cooldown=1, verbose=1)"
   ]
  },
  {
   "cell_type": "markdown",
   "id": "838fcdd3",
   "metadata": {
    "papermill": {
     "duration": 0.006476,
     "end_time": "2022-07-10T21:52:59.598366",
     "exception": false,
     "start_time": "2022-07-10T21:52:59.591890",
     "status": "completed"
    },
    "tags": []
   },
   "source": [
    "# Entrainement de notre modèle"
   ]
  },
  {
   "cell_type": "markdown",
   "id": "b470d8a0",
   "metadata": {
    "papermill": {
     "duration": 0.006573,
     "end_time": "2022-07-10T21:52:59.612174",
     "exception": false,
     "start_time": "2022-07-10T21:52:59.605601",
     "status": "completed"
    },
    "tags": []
   },
   "source": [
    "#### Une étape supplémentaire du transfer learning est le fine-tunning qui consiste à dégeler l'ensemble du modèle une fois entrainé, et à le réentraîner sur les nouvelles données avec un taux d'apprentissage très faible.\n",
    "#### On entraine donc une première fois notre modèle gelé"
   ]
  },
  {
   "cell_type": "code",
   "execution_count": 10,
   "id": "323ef2a0",
   "metadata": {
    "execution": {
     "iopub.execute_input": "2022-07-10T21:52:59.627345Z",
     "iopub.status.busy": "2022-07-10T21:52:59.626538Z",
     "iopub.status.idle": "2022-07-10T21:55:54.297671Z",
     "shell.execute_reply": "2022-07-10T21:55:54.289458Z"
    },
    "papermill": {
     "duration": 174.682175,
     "end_time": "2022-07-10T21:55:54.301018",
     "exception": false,
     "start_time": "2022-07-10T21:52:59.618843",
     "status": "completed"
    },
    "tags": []
   },
   "outputs": [
    {
     "name": "stderr",
     "output_type": "stream",
     "text": [
      "/opt/conda/lib/python3.7/site-packages/keras/optimizer_v2/optimizer_v2.py:356: UserWarning: The `lr` argument is deprecated, use `learning_rate` instead.\n",
      "  \"The `lr` argument is deprecated, use `learning_rate` instead.\")\n"
     ]
    },
    {
     "name": "stdout",
     "output_type": "stream",
     "text": [
      "Epoch 1/20\n"
     ]
    },
    {
     "name": "stderr",
     "output_type": "stream",
     "text": [
      "2022-07-10 21:53:00.297781: I tensorflow/compiler/mlir/mlir_graph_optimization_pass.cc:185] None of the MLIR Optimization Passes are enabled (registered 2)\n",
      "2022-07-10 21:53:01.138139: I tensorflow/stream_executor/cuda/cuda_dnn.cc:369] Loaded cuDNN version 8005\n"
     ]
    },
    {
     "name": "stdout",
     "output_type": "stream",
     "text": [
      "1443/1443 [==============================] - 20s 9ms/step - loss: 2.2518 - accuracy: 0.3473 - val_loss: 1.8265 - val_accuracy: 0.3906\n",
      "\n",
      "Epoch 00001: val_loss improved from inf to 1.82654, saving model to ./weights/Custom_model_1.h5\n",
      "Epoch 2/20\n",
      "1443/1443 [==============================] - 13s 9ms/step - loss: 1.7253 - accuracy: 0.4303 - val_loss: 1.7395 - val_accuracy: 0.4175\n",
      "\n",
      "Epoch 00002: val_loss improved from 1.82654 to 1.73954, saving model to ./weights/Custom_model_2.h5\n",
      "Epoch 3/20\n",
      "1443/1443 [==============================] - 13s 9ms/step - loss: 1.6315 - accuracy: 0.4587 - val_loss: 1.7128 - val_accuracy: 0.4282\n",
      "\n",
      "Epoch 00003: val_loss improved from 1.73954 to 1.71276, saving model to ./weights/Custom_model_3.h5\n",
      "Epoch 4/20\n",
      "1443/1443 [==============================] - 13s 9ms/step - loss: 1.5696 - accuracy: 0.4789 - val_loss: 1.7177 - val_accuracy: 0.4343\n",
      "\n",
      "Epoch 00004: val_loss did not improve from 1.71276\n",
      "Epoch 5/20\n",
      "1443/1443 [==============================] - 13s 9ms/step - loss: 1.5181 - accuracy: 0.4924 - val_loss: 1.7192 - val_accuracy: 0.4300\n",
      "\n",
      "Epoch 00005: val_loss did not improve from 1.71276\n",
      "\n",
      "Epoch 00005: ReduceLROnPlateau reducing learning rate to 0.00010000000474974513.\n",
      "Epoch 6/20\n",
      "1443/1443 [==============================] - 13s 9ms/step - loss: 1.3813 - accuracy: 0.5347 - val_loss: 1.6828 - val_accuracy: 0.4530\n",
      "\n",
      "Epoch 00006: val_loss improved from 1.71276 to 1.68281, saving model to ./weights/Custom_model_6.h5\n",
      "Epoch 7/20\n",
      "1443/1443 [==============================] - 13s 9ms/step - loss: 1.3327 - accuracy: 0.5504 - val_loss: 1.6873 - val_accuracy: 0.4596\n",
      "\n",
      "Epoch 00007: val_loss did not improve from 1.68281\n",
      "Epoch 8/20\n",
      "1443/1443 [==============================] - 13s 9ms/step - loss: 1.3045 - accuracy: 0.5589 - val_loss: 1.6960 - val_accuracy: 0.4569\n",
      "\n",
      "Epoch 00008: val_loss did not improve from 1.68281\n",
      "\n",
      "Epoch 00008: ReduceLROnPlateau reducing learning rate to 1.0000000474974514e-05.\n",
      "Epoch 9/20\n",
      "1443/1443 [==============================] - 13s 9ms/step - loss: 1.2756 - accuracy: 0.5696 - val_loss: 1.6943 - val_accuracy: 0.4594\n",
      "\n",
      "Epoch 00009: val_loss did not improve from 1.68281\n",
      "Epoch 10/20\n",
      "1443/1443 [==============================] - 13s 9ms/step - loss: 1.2693 - accuracy: 0.5718 - val_loss: 1.6960 - val_accuracy: 0.4600\n",
      "\n",
      "Epoch 00010: val_loss did not improve from 1.68281\n",
      "\n",
      "Epoch 00010: ReduceLROnPlateau reducing learning rate to 1.0000000656873453e-06.\n"
     ]
    }
   ],
   "source": [
    "full_model.compile(optimizer=Adam(lr=0.001),loss='sparse_categorical_crossentropy',metrics=['accuracy'])\n",
    "history1 = full_model.fit(train_ds, callbacks=[early_stopping, model_save, reduce_lr], validation_data=val_ds, epochs=20)"
   ]
  },
  {
   "cell_type": "markdown",
   "id": "967d5865",
   "metadata": {
    "papermill": {
     "duration": 0.146854,
     "end_time": "2022-07-10T21:55:54.696796",
     "exception": false,
     "start_time": "2022-07-10T21:55:54.549942",
     "status": "completed"
    },
    "tags": []
   },
   "source": [
    "#### On dégèle notre modèle pour le réentraîner"
   ]
  },
  {
   "cell_type": "code",
   "execution_count": 11,
   "id": "1ec1b71c",
   "metadata": {
    "execution": {
     "iopub.execute_input": "2022-07-10T21:55:55.000513Z",
     "iopub.status.busy": "2022-07-10T21:55:55.000005Z",
     "iopub.status.idle": "2022-07-10T21:55:55.006891Z",
     "shell.execute_reply": "2022-07-10T21:55:55.005633Z"
    },
    "papermill": {
     "duration": 0.158576,
     "end_time": "2022-07-10T21:55:55.009208",
     "exception": false,
     "start_time": "2022-07-10T21:55:54.850632",
     "status": "completed"
    },
    "tags": []
   },
   "outputs": [],
   "source": [
    "conv_model.trainable = True"
   ]
  },
  {
   "cell_type": "code",
   "execution_count": 12,
   "id": "eb2438f7",
   "metadata": {
    "execution": {
     "iopub.execute_input": "2022-07-10T21:55:55.305108Z",
     "iopub.status.busy": "2022-07-10T21:55:55.304620Z",
     "iopub.status.idle": "2022-07-10T22:01:59.158416Z",
     "shell.execute_reply": "2022-07-10T22:01:59.157407Z"
    },
    "papermill": {
     "duration": 364.004521,
     "end_time": "2022-07-10T22:01:59.160727",
     "exception": false,
     "start_time": "2022-07-10T21:55:55.156206",
     "status": "completed"
    },
    "tags": []
   },
   "outputs": [
    {
     "name": "stdout",
     "output_type": "stream",
     "text": [
      "Epoch 1/10\n",
      "1443/1443 [==============================] - 30s 20ms/step - loss: 1.3462 - accuracy: 0.5465 - val_loss: 1.0040 - val_accuracy: 0.6595\n",
      "\n",
      "Epoch 00001: val_loss improved from 1.68281 to 1.00399, saving model to ./weights/Custom_model_1.h5\n",
      "Epoch 2/10\n",
      "1443/1443 [==============================] - 29s 20ms/step - loss: 0.8969 - accuracy: 0.6900 - val_loss: 0.8893 - val_accuracy: 0.7126\n",
      "\n",
      "Epoch 00002: val_loss improved from 1.00399 to 0.88928, saving model to ./weights/Custom_model_2.h5\n",
      "Epoch 3/10\n",
      "1443/1443 [==============================] - 29s 20ms/step - loss: 0.7007 - accuracy: 0.7558 - val_loss: 0.8281 - val_accuracy: 0.7274\n",
      "\n",
      "Epoch 00003: val_loss improved from 0.88928 to 0.82810, saving model to ./weights/Custom_model_3.h5\n",
      "Epoch 4/10\n",
      "1443/1443 [==============================] - 28s 20ms/step - loss: 0.5583 - accuracy: 0.7991 - val_loss: 0.8978 - val_accuracy: 0.7309\n",
      "\n",
      "Epoch 00004: val_loss did not improve from 0.82810\n",
      "Epoch 5/10\n",
      "1443/1443 [==============================] - 29s 20ms/step - loss: 0.4594 - accuracy: 0.8334 - val_loss: 0.9837 - val_accuracy: 0.7414\n",
      "\n",
      "Epoch 00005: val_loss did not improve from 0.82810\n",
      "\n",
      "Epoch 00005: ReduceLROnPlateau reducing learning rate to 9.999999747378752e-06.\n",
      "Epoch 6/10\n",
      "1443/1443 [==============================] - 29s 20ms/step - loss: 0.2554 - accuracy: 0.9010 - val_loss: 0.8156 - val_accuracy: 0.7908\n",
      "\n",
      "Epoch 00006: val_loss improved from 0.82810 to 0.81563, saving model to ./weights/Custom_model_6.h5\n",
      "Epoch 7/10\n",
      "1443/1443 [==============================] - 29s 20ms/step - loss: 0.1851 - accuracy: 0.9273 - val_loss: 0.9243 - val_accuracy: 0.7925\n",
      "\n",
      "Epoch 00007: val_loss did not improve from 0.81563\n",
      "Epoch 8/10\n",
      "1443/1443 [==============================] - 28s 20ms/step - loss: 0.1361 - accuracy: 0.9472 - val_loss: 1.1168 - val_accuracy: 0.7911\n",
      "\n",
      "Epoch 00008: val_loss did not improve from 0.81563\n",
      "\n",
      "Epoch 00008: ReduceLROnPlateau reducing learning rate to 9.999999747378752e-07.\n",
      "Epoch 9/10\n",
      "1443/1443 [==============================] - 29s 20ms/step - loss: 0.0964 - accuracy: 0.9640 - val_loss: 1.1092 - val_accuracy: 0.7921\n",
      "\n",
      "Epoch 00009: val_loss did not improve from 0.81563\n",
      "Epoch 10/10\n",
      "1443/1443 [==============================] - 29s 20ms/step - loss: 0.0884 - accuracy: 0.9680 - val_loss: 1.1413 - val_accuracy: 0.7906\n",
      "\n",
      "Epoch 00010: val_loss did not improve from 0.81563\n",
      "\n",
      "Epoch 00010: ReduceLROnPlateau reducing learning rate to 9.999999974752428e-08.\n"
     ]
    }
   ],
   "source": [
    "full_model.compile(optimizer=Adam(lr=0.0001),loss='sparse_categorical_crossentropy',metrics=['accuracy'])\n",
    "history2 = full_model.fit(train_ds, callbacks=[early_stopping, model_save, reduce_lr], validation_data=val_ds, epochs=10)"
   ]
  },
  {
   "cell_type": "markdown",
   "id": "fb6edeaf",
   "metadata": {
    "papermill": {
     "duration": 0.47109,
     "end_time": "2022-07-10T22:02:00.059584",
     "exception": false,
     "start_time": "2022-07-10T22:01:59.588494",
     "status": "completed"
    },
    "tags": []
   },
   "source": [
    "# Analyse du modèle"
   ]
  },
  {
   "cell_type": "code",
   "execution_count": 13,
   "id": "fcd4d3ad",
   "metadata": {
    "execution": {
     "iopub.execute_input": "2022-07-10T22:02:00.903302Z",
     "iopub.status.busy": "2022-07-10T22:02:00.902945Z",
     "iopub.status.idle": "2022-07-10T22:02:01.507919Z",
     "shell.execute_reply": "2022-07-10T22:02:01.507020Z"
    },
    "papermill": {
     "duration": 1.031627,
     "end_time": "2022-07-10T22:02:01.510150",
     "exception": false,
     "start_time": "2022-07-10T22:02:00.478523",
     "status": "completed"
    },
    "tags": []
   },
   "outputs": [
    {
     "data": {
      "image/png": "[encoded data removed]",
      "text/plain": [
       "<Figure size 864x720 with 1 Axes>"
      ]
     },
     "metadata": {
      "needs_background": "light"
     },
     "output_type": "display_data"
    },
    {
     "data": {
      "image/png": "[encoded data removed]",
      "text/plain": [
       "<Figure size 864x720 with 1 Axes>"
      ]
     },
     "metadata": {
      "needs_background": "light"
     },
     "output_type": "display_data"
    }
   ],
   "source": [
    "import matplotlib.pyplot as plt\n",
    "\n",
    "def plot_hist(hist, name):\n",
    "        \"\"\"Plots training chart\"\"\"\n",
    "        plt.figure(figsize=[12, 10])\n",
    "        plt.plot(hist.history[\"accuracy\"])\n",
    "        plt.plot(hist.history[\"val_accuracy\"])\n",
    "        plt.plot(hist.history[\"loss\"])\n",
    "        plt.plot(hist.history[\"val_loss\"])\n",
    "        plt.title(f\"{name}\")\n",
    "        plt.ylabel(\"accuracy\")\n",
    "        plt.xlabel(\"epoch\")\n",
    "        plt.ylim(top=1.5)\n",
    "        plt.legend([\"train_acc\", \"validation_acc\", \"train_loss\", \"validation_loss\"], loc=\"upper left\")\n",
    "        plt.savefig(f'{name}_chart.png')\n",
    "        plt.show()\n",
    "\n",
    "plot_hist(history1, name='Model with pre-model freeze')\n",
    "plot_hist(history2, name='Model with pre-model defreeze')"
   ]
  },
  {
   "cell_type": "markdown",
   "id": "198a5509",
   "metadata": {
    "papermill": {
     "duration": 0.429041,
     "end_time": "2022-07-10T22:02:02.408209",
     "exception": false,
     "start_time": "2022-07-10T22:02:01.979168",
     "status": "completed"
    },
    "tags": []
   },
   "source": [
    "# Résultat à soumettre"
   ]
  },
  {
   "cell_type": "code",
   "execution_count": 14,
   "id": "1fcd3076",
   "metadata": {
    "execution": {
     "iopub.execute_input": "2022-07-10T22:02:03.303345Z",
     "iopub.status.busy": "2022-07-10T22:02:03.302851Z",
     "iopub.status.idle": "2022-07-10T22:02:03.317980Z",
     "shell.execute_reply": "2022-07-10T22:02:03.317139Z"
    },
    "papermill": {
     "duration": 0.488584,
     "end_time": "2022-07-10T22:02:03.320115",
     "exception": false,
     "start_time": "2022-07-10T22:02:02.831531",
     "status": "completed"
    },
    "tags": []
   },
   "outputs": [],
   "source": [
    "X_test = np.load('/kaggle/working/ships_competition.npz', allow_pickle=True)['X']\n",
    "#X_test = X_test.astype('float32') / 255"
   ]
  },
  {
   "cell_type": "code",
   "execution_count": 15,
   "id": "e5bbe113",
   "metadata": {
    "execution": {
     "iopub.execute_input": "2022-07-10T22:02:04.163305Z",
     "iopub.status.busy": "2022-07-10T22:02:04.162826Z",
     "iopub.status.idle": "2022-07-10T22:02:04.775577Z",
     "shell.execute_reply": "2022-07-10T22:02:04.774630Z"
    },
    "papermill": {
     "duration": 1.037856,
     "end_time": "2022-07-10T22:02:04.778238",
     "exception": false,
     "start_time": "2022-07-10T22:02:03.740382",
     "status": "completed"
    },
    "tags": []
   },
   "outputs": [],
   "source": [
    "res = full_model.predict(X_test).argmax(axis=1)\n",
    "df = pd.DataFrame({\"Category\":res})\n",
    "df.to_csv(\"submission.csv\", index_label=\"Id\")"
   ]
  },
  {
   "cell_type": "code",
   "execution_count": 16,
   "id": "36cb2a7a",
   "metadata": {
    "execution": {
     "iopub.execute_input": "2022-07-10T22:02:05.675830Z",
     "iopub.status.busy": "2022-07-10T22:02:05.675444Z",
     "iopub.status.idle": "2022-07-10T22:02:06.394049Z",
     "shell.execute_reply": "2022-07-10T22:02:06.392902Z"
    },
    "papermill": {
     "duration": 1.190004,
     "end_time": "2022-07-10T22:02:06.396634",
     "exception": false,
     "start_time": "2022-07-10T22:02:05.206630",
     "status": "completed"
    },
    "tags": []
   },
   "outputs": [
    {
     "name": "stdout",
     "output_type": "stream",
     "text": [
      "Id,Category\r\n",
      "0,5\r\n",
      "1,5\r\n",
      "2,7\r\n",
      "3,11\r\n",
      "4,0\r\n",
      "5,5\r\n",
      "6,4\r\n",
      "7,5\r\n",
      "8,7\r\n"
     ]
    }
   ],
   "source": [
    "!head submission.csv"
   ]
  },
  {
   "cell_type": "code",
   "execution_count": 17,
   "id": "47b93c83",
   "metadata": {
    "execution": {
     "iopub.execute_input": "2022-07-10T22:02:07.257192Z",
     "iopub.status.busy": "2022-07-10T22:02:07.256807Z",
     "iopub.status.idle": "2022-07-10T22:02:07.264437Z",
     "shell.execute_reply": "2022-07-10T22:02:07.263435Z"
    },
    "papermill": {
     "duration": 0.440822,
     "end_time": "2022-07-10T22:02:07.268088",
     "exception": false,
     "start_time": "2022-07-10T22:02:06.827266",
     "status": "completed"
    },
    "tags": []
   },
   "outputs": [
    {
     "data": {
      "text/html": [
       "<a href='submission.csv' target='_blank'>submission.csv</a><br>"
      ],
      "text/plain": [
       "/kaggle/working/submission.csv"
      ]
     },
     "execution_count": 17,
     "metadata": {},
     "output_type": "execute_result"
    }
   ],
   "source": [
    "import os\n",
    "os.chdir(r'/kaggle/working')\n",
    "from IPython.display import FileLink\n",
    "FileLink(r'submission.csv')"
   ]
  },
  {
   "cell_type": "code",
   "execution_count": 18,
   "id": "18f6b39c",
   "metadata": {
    "execution": {
     "iopub.execute_input": "2022-07-10T22:02:08.403914Z",
     "iopub.status.busy": "2022-07-10T22:02:08.403561Z",
     "iopub.status.idle": "2022-07-10T22:02:10.299794Z",
     "shell.execute_reply": "2022-07-10T22:02:10.298416Z"
    },
    "papermill": {
     "duration": 2.563486,
     "end_time": "2022-07-10T22:02:10.302679",
     "exception": false,
     "start_time": "2022-07-10T22:02:07.739193",
     "status": "completed"
    },
    "tags": []
   },
   "outputs": [],
   "source": [
    "!rm -rf ships32/"
   ]
  }
 ],
 "metadata": {
  "kernelspec": {
   "display_name": "Python 3",
   "language": "python",
   "name": "python3"
  },
  "language_info": {
   "codemirror_mode": {
    "name": "ipython",
    "version": 3
   },
   "file_extension": ".py",
   "mimetype": "text/x-python",
   "name": "python",
   "nbconvert_exporter": "python",
   "pygments_lexer": "ipython3",
   "version": "3.7.12"
  },
  "papermill": {
   "default_parameters": {},
   "duration": 577.808882,
   "end_time": "2022-07-10T22:02:13.646947",
   "environment_variables": {},
   "exception": null,
   "input_path": "__notebook__.ipynb",
   "output_path": "__notebook__.ipynb",
   "parameters": {},
   "start_time": "2022-07-10T21:52:35.838065",
   "version": "2.3.4"
  }
 },
 "nbformat": 4,
 "nbformat_minor": 5
}
