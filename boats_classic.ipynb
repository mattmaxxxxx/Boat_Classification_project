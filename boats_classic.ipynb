{
 "cells": [
  {
   "cell_type": "markdown",
   "id": "24560936",
   "metadata": {
    "papermill": {
     "duration": 0.007147,
     "end_time": "2022-07-10T21:45:14.585535",
     "exception": false,
     "start_time": "2022-07-10T21:45:14.578388",
     "status": "completed"
    },
    "tags": []
   },
   "source": [
    "Matthieu SCHLIENGER"
   ]
  },
  {
   "cell_type": "code",
   "execution_count": 1,
   "id": "e6d9bd6b",
   "metadata": {
    "execution": {
     "iopub.execute_input": "2022-07-10T21:45:14.600021Z",
     "iopub.status.busy": "2022-07-10T21:45:14.599307Z",
     "iopub.status.idle": "2022-07-10T21:45:14.612324Z",
     "shell.execute_reply": "2022-07-10T21:45:14.611458Z"
    },
    "papermill": {
     "duration": 0.023248,
     "end_time": "2022-07-10T21:45:14.614942",
     "exception": false,
     "start_time": "2022-07-10T21:45:14.591694",
     "status": "completed"
    },
    "tags": []
   },
   "outputs": [
    {
     "name": "stdout",
     "output_type": "stream",
     "text": [
      "/kaggle/input/navires-2022-a-la-mano/ships.tgz\n"
     ]
    }
   ],
   "source": [
    "# This Python 3 environment comes with many helpful analytics libraries installed\n",
    "# It is defined by the kaggle/python Docker image: https://github.com/kaggle/docker-python\n",
    "# For example, here's several helpful packages to load\n",
    "\n",
    "import numpy as np # linear algebra\n",
    "import pandas as pd # data processing, CSV file I/O (e.g. pd.read_csv)\n",
    "\n",
    "# Input data files are available in the read-only \"../input/\" directory\n",
    "# For example, running this (by clicking run or pressing Shift+Enter) will list all files under the input directory\n",
    "\n",
    "import os\n",
    "for dirname, _, filenames in os.walk('/kaggle/input'):\n",
    "    for filename in filenames:\n",
    "        print(os.path.join(dirname, filename))\n",
    "\n",
    "# You can write up to 20GB to the current directory (/kaggle/working/) that gets preserved as output when you create a version using \"Save & Run All\" \n",
    "# You can also write temporary files to /kaggle/temp/, but they won't be saved outside of the current session"
   ]
  },
  {
   "cell_type": "code",
   "execution_count": 2,
   "id": "3c9161ca",
   "metadata": {
    "execution": {
     "iopub.execute_input": "2022-07-10T21:45:14.629408Z",
     "iopub.status.busy": "2022-07-10T21:45:14.628629Z",
     "iopub.status.idle": "2022-07-10T21:45:19.750100Z",
     "shell.execute_reply": "2022-07-10T21:45:19.749156Z"
    },
    "papermill": {
     "duration": 5.130668,
     "end_time": "2022-07-10T21:45:19.752407",
     "exception": false,
     "start_time": "2022-07-10T21:45:14.621739",
     "status": "completed"
    },
    "tags": []
   },
   "outputs": [],
   "source": [
    "import tensorflow as tf\n",
    "from tensorflow import keras\n",
    "from tensorflow.keras import layers"
   ]
  },
  {
   "cell_type": "code",
   "execution_count": 3,
   "id": "2021f2ad",
   "metadata": {
    "execution": {
     "iopub.execute_input": "2022-07-10T21:45:19.767078Z",
     "iopub.status.busy": "2022-07-10T21:45:19.766023Z",
     "iopub.status.idle": "2022-07-10T21:45:22.703096Z",
     "shell.execute_reply": "2022-07-10T21:45:22.701917Z"
    },
    "papermill": {
     "duration": 2.946674,
     "end_time": "2022-07-10T21:45:22.705633",
     "exception": false,
     "start_time": "2022-07-10T21:45:19.758959",
     "status": "completed"
    },
    "tags": []
   },
   "outputs": [],
   "source": [
    "!tar xzf /kaggle/input/navires-2022-a-la-mano/ships.tgz"
   ]
  },
  {
   "cell_type": "markdown",
   "id": "f4b13bb9",
   "metadata": {
    "papermill": {
     "duration": 0.006172,
     "end_time": "2022-07-10T21:45:22.718067",
     "exception": false,
     "start_time": "2022-07-10T21:45:22.711895",
     "status": "completed"
    },
    "tags": []
   },
   "source": [
    "# Lire les images"
   ]
  },
  {
   "cell_type": "code",
   "execution_count": 4,
   "id": "0676936a",
   "metadata": {
    "execution": {
     "iopub.execute_input": "2022-07-10T21:45:22.732356Z",
     "iopub.status.busy": "2022-07-10T21:45:22.731414Z",
     "iopub.status.idle": "2022-07-10T21:45:28.226227Z",
     "shell.execute_reply": "2022-07-10T21:45:28.225245Z"
    },
    "papermill": {
     "duration": 5.505108,
     "end_time": "2022-07-10T21:45:28.229187",
     "exception": false,
     "start_time": "2022-07-10T21:45:22.724079",
     "status": "completed"
    },
    "tags": []
   },
   "outputs": [
    {
     "name": "stdout",
     "output_type": "stream",
     "text": [
      "Found 51284 files belonging to 13 classes.\n",
      "Using 41028 files for training.\n"
     ]
    },
    {
     "name": "stderr",
     "output_type": "stream",
     "text": [
      "2022-07-10 21:45:24.159110: I tensorflow/stream_executor/cuda/cuda_gpu_executor.cc:937] successful NUMA node read from SysFS had negative value (-1), but there must be at least one NUMA node, so returning NUMA node zero\n",
      "2022-07-10 21:45:24.261067: I tensorflow/stream_executor/cuda/cuda_gpu_executor.cc:937] successful NUMA node read from SysFS had negative value (-1), but there must be at least one NUMA node, so returning NUMA node zero\n",
      "2022-07-10 21:45:24.261793: I tensorflow/stream_executor/cuda/cuda_gpu_executor.cc:937] successful NUMA node read from SysFS had negative value (-1), but there must be at least one NUMA node, so returning NUMA node zero\n",
      "2022-07-10 21:45:24.265264: I tensorflow/core/platform/cpu_feature_guard.cc:142] This TensorFlow binary is optimized with oneAPI Deep Neural Network Library (oneDNN) to use the following CPU instructions in performance-critical operations:  AVX2 AVX512F FMA\n",
      "To enable them in other operations, rebuild TensorFlow with the appropriate compiler flags.\n",
      "2022-07-10 21:45:24.265622: I tensorflow/stream_executor/cuda/cuda_gpu_executor.cc:937] successful NUMA node read from SysFS had negative value (-1), but there must be at least one NUMA node, so returning NUMA node zero\n",
      "2022-07-10 21:45:24.266783: I tensorflow/stream_executor/cuda/cuda_gpu_executor.cc:937] successful NUMA node read from SysFS had negative value (-1), but there must be at least one NUMA node, so returning NUMA node zero\n",
      "2022-07-10 21:45:24.267776: I tensorflow/stream_executor/cuda/cuda_gpu_executor.cc:937] successful NUMA node read from SysFS had negative value (-1), but there must be at least one NUMA node, so returning NUMA node zero\n",
      "2022-07-10 21:45:26.390772: I tensorflow/stream_executor/cuda/cuda_gpu_executor.cc:937] successful NUMA node read from SysFS had negative value (-1), but there must be at least one NUMA node, so returning NUMA node zero\n",
      "2022-07-10 21:45:26.391792: I tensorflow/stream_executor/cuda/cuda_gpu_executor.cc:937] successful NUMA node read from SysFS had negative value (-1), but there must be at least one NUMA node, so returning NUMA node zero\n",
      "2022-07-10 21:45:26.392585: I tensorflow/stream_executor/cuda/cuda_gpu_executor.cc:937] successful NUMA node read from SysFS had negative value (-1), but there must be at least one NUMA node, so returning NUMA node zero\n",
      "2022-07-10 21:45:26.393309: I tensorflow/core/common_runtime/gpu/gpu_device.cc:1510] Created device /job:localhost/replica:0/task:0/device:GPU:0 with 15403 MB memory:  -> device: 0, name: Tesla P100-PCIE-16GB, pci bus id: 0000:00:04.0, compute capability: 6.0\n"
     ]
    },
    {
     "name": "stdout",
     "output_type": "stream",
     "text": [
      "Found 51284 files belonging to 13 classes.\n",
      "Using 10256 files for validation.\n"
     ]
    }
   ],
   "source": [
    "image_size = (32, 32)\n",
    "batch_size = 32\n",
    "\n",
    "train_ds = tf.keras.preprocessing.image_dataset_from_directory(\n",
    "    \"/kaggle/working/ships32\",\n",
    "    validation_split=0.2,\n",
    "    subset=\"training\",\n",
    "    seed=1337,\n",
    "    image_size=image_size,\n",
    "    batch_size=batch_size,\n",
    ")\n",
    "val_ds = tf.keras.preprocessing.image_dataset_from_directory(\n",
    "    \"/kaggle/working/ships32\",\n",
    "    validation_split=0.2,\n",
    "    subset=\"validation\",\n",
    "    seed=1337,\n",
    "    image_size=image_size,\n",
    "    batch_size=batch_size,\n",
    ")"
   ]
  },
  {
   "cell_type": "markdown",
   "id": "c552b6ba",
   "metadata": {
    "papermill": {
     "duration": 0.009877,
     "end_time": "2022-07-10T21:45:28.250925",
     "exception": false,
     "start_time": "2022-07-10T21:45:28.241048",
     "status": "completed"
    },
    "tags": []
   },
   "source": [
    "# Visualiser les données"
   ]
  },
  {
   "cell_type": "code",
   "execution_count": 5,
   "id": "7c956f1b",
   "metadata": {
    "execution": {
     "iopub.execute_input": "2022-07-10T21:45:28.273274Z",
     "iopub.status.busy": "2022-07-10T21:45:28.272910Z",
     "iopub.status.idle": "2022-07-10T21:45:29.005868Z",
     "shell.execute_reply": "2022-07-10T21:45:29.004926Z"
    },
    "papermill": {
     "duration": 0.74653,
     "end_time": "2022-07-10T21:45:29.008205",
     "exception": false,
     "start_time": "2022-07-10T21:45:28.261675",
     "status": "completed"
    },
    "tags": []
   },
   "outputs": [
    {
     "name": "stderr",
     "output_type": "stream",
     "text": [
      "2022-07-10 21:45:28.320809: I tensorflow/compiler/mlir/mlir_graph_optimization_pass.cc:185] None of the MLIR Optimization Passes are enabled (registered 2)\n"
     ]
    },
    {
     "data": {
      "image/png": "[encoded data removed]",
      "text/plain": [
       "<Figure size 720x720 with 9 Axes>"
      ]
     },
     "metadata": {
      "needs_background": "light"
     },
     "output_type": "display_data"
    }
   ],
   "source": [
    "import matplotlib.pyplot as plt\n",
    "\n",
    "plt.figure(figsize=(10, 10))\n",
    "for images, labels in train_ds.take(1):\n",
    "    for i in range(9):\n",
    "        ax = plt.subplot(3, 3, i + 1)\n",
    "        plt.imshow(images[i].numpy().astype(\"uint8\"))\n",
    "        plt.title(int(labels[i]))\n",
    "        plt.axis(\"off\")"
   ]
  },
  {
   "cell_type": "markdown",
   "id": "c1bd675f",
   "metadata": {
    "papermill": {
     "duration": 0.00689,
     "end_time": "2022-07-10T21:45:29.022412",
     "exception": false,
     "start_time": "2022-07-10T21:45:29.015522",
     "status": "completed"
    },
    "tags": []
   },
   "source": [
    "# Configuration de la data augmentation"
   ]
  },
  {
   "cell_type": "markdown",
   "id": "9c4faa86",
   "metadata": {
    "papermill": {
     "duration": 0.007102,
     "end_time": "2022-07-10T21:45:29.036467",
     "exception": false,
     "start_time": "2022-07-10T21:45:29.029365",
     "status": "completed"
    },
    "tags": []
   },
   "source": [
    "#### Complétons notre dataset avec la data augmentation. Chaque image sera dupliquée et son clone subira une modification horizontale et uen légère rotation."
   ]
  },
  {
   "cell_type": "code",
   "execution_count": 6,
   "id": "63765452",
   "metadata": {
    "execution": {
     "iopub.execute_input": "2022-07-10T21:45:29.052644Z",
     "iopub.status.busy": "2022-07-10T21:45:29.051754Z",
     "iopub.status.idle": "2022-07-10T21:45:29.080156Z",
     "shell.execute_reply": "2022-07-10T21:45:29.079306Z"
    },
    "papermill": {
     "duration": 0.038409,
     "end_time": "2022-07-10T21:45:29.082333",
     "exception": false,
     "start_time": "2022-07-10T21:45:29.043924",
     "status": "completed"
    },
    "tags": []
   },
   "outputs": [],
   "source": [
    "data_augmentation = keras.Sequential(\n",
    "    [\n",
    "        layers.RandomFlip(\"horizontal\"),\n",
    "        layers.RandomRotation(0.1),\n",
    "    ]\n",
    ")"
   ]
  },
  {
   "cell_type": "code",
   "execution_count": 7,
   "id": "ab11faa8",
   "metadata": {
    "execution": {
     "iopub.execute_input": "2022-07-10T21:45:29.098377Z",
     "iopub.status.busy": "2022-07-10T21:45:29.097614Z",
     "iopub.status.idle": "2022-07-10T21:45:29.663785Z",
     "shell.execute_reply": "2022-07-10T21:45:29.662721Z"
    },
    "papermill": {
     "duration": 0.576881,
     "end_time": "2022-07-10T21:45:29.666227",
     "exception": false,
     "start_time": "2022-07-10T21:45:29.089346",
     "status": "completed"
    },
    "tags": []
   },
   "outputs": [
    {
     "data": {
      "image/png": "[encoded data removed]",
      "text/plain": [
       "<Figure size 720x720 with 9 Axes>"
      ]
     },
     "metadata": {
      "needs_background": "light"
     },
     "output_type": "display_data"
    }
   ],
   "source": [
    "plt.figure(figsize=(10, 10))\n",
    "for images, _ in train_ds.take(1):\n",
    "    for i in range(9):\n",
    "        augmented_images = data_augmentation(images)\n",
    "        ax = plt.subplot(3, 3, i + 1)\n",
    "        plt.imshow(augmented_images[0].numpy().astype(\"uint8\"))\n",
    "        plt.axis(\"off\")"
   ]
  },
  {
   "cell_type": "code",
   "execution_count": 8,
   "id": "f3a54966",
   "metadata": {
    "execution": {
     "iopub.execute_input": "2022-07-10T21:45:29.684774Z",
     "iopub.status.busy": "2022-07-10T21:45:29.684167Z",
     "iopub.status.idle": "2022-07-10T21:45:29.690467Z",
     "shell.execute_reply": "2022-07-10T21:45:29.689646Z"
    },
    "papermill": {
     "duration": 0.017671,
     "end_time": "2022-07-10T21:45:29.692387",
     "exception": false,
     "start_time": "2022-07-10T21:45:29.674716",
     "status": "completed"
    },
    "tags": []
   },
   "outputs": [],
   "source": [
    "train_ds = train_ds.prefetch(buffer_size=32)\n",
    "val_ds = val_ds.prefetch(buffer_size=32)"
   ]
  },
  {
   "cell_type": "markdown",
   "id": "ad5d434f",
   "metadata": {
    "papermill": {
     "duration": 0.007526,
     "end_time": "2022-07-10T21:45:29.707546",
     "exception": false,
     "start_time": "2022-07-10T21:45:29.700020",
     "status": "completed"
    },
    "tags": []
   },
   "source": [
    "# Configuration du modèle"
   ]
  },
  {
   "cell_type": "markdown",
   "id": "edbe4d42",
   "metadata": {
    "papermill": {
     "duration": 0.007994,
     "end_time": "2022-07-10T21:45:29.723597",
     "exception": false,
     "start_time": "2022-07-10T21:45:29.715603",
     "status": "completed"
    },
    "tags": []
   },
   "source": [
    "#### Le modèle est composée de 21 couches successives. Il est divisé en deux parties : une pour l'extraction de caractéristiques avec des couches convolutionnelles et de mise en commun qui extraient les caractéristiques des images, et un classificateur qui pondère ces caractéristiques et fait une prédiction."
   ]
  },
  {
   "cell_type": "code",
   "execution_count": 9,
   "id": "0d9aca44",
   "metadata": {
    "execution": {
     "iopub.execute_input": "2022-07-10T21:45:29.740575Z",
     "iopub.status.busy": "2022-07-10T21:45:29.740025Z",
     "iopub.status.idle": "2022-07-10T21:45:30.114332Z",
     "shell.execute_reply": "2022-07-10T21:45:30.112566Z"
    },
    "papermill": {
     "duration": 0.385959,
     "end_time": "2022-07-10T21:45:30.117195",
     "exception": false,
     "start_time": "2022-07-10T21:45:29.731236",
     "status": "completed"
    },
    "tags": []
   },
   "outputs": [
    {
     "name": "stdout",
     "output_type": "stream",
     "text": [
      "Nombre de couches :  21\n"
     ]
    }
   ],
   "source": [
    "from tensorflow.keras import layers, Model, optimizers\n",
    "\n",
    "inputs = layers.Input(shape=(32, 32, 3))\n",
    "x = data_augmentation(inputs)\n",
    "x = layers.Rescaling(1.0 / 255)(x)\n",
    "\n",
    "i=0\n",
    "def block(inputs, filters, size, drop_out=None):\n",
    "    global i\n",
    "    i += 1\n",
    "    x = layers.Conv2D(filters, size, padding='same', \n",
    "                        activation='swish',\n",
    "                        name=f'conv{i}')(inputs)\n",
    "    x = layers.MaxPooling2D((2, 2))(x)\n",
    "    if drop_out != None:\n",
    "        x = layers.Dropout(drop_out)(x)\n",
    "    return x\n",
    "\n",
    "x = layers.Conv2D(32, (3, 3), padding='same', \n",
    "                       activation='swish',\n",
    "                       input_shape=(32, 32, 3),\n",
    "                       name ='stem_conv2d')(inputs)\n",
    "x = layers.BatchNormalization(name='stem_bn')(x)\n",
    "x = layers.Activation('swish', name='stem_activation')(x)\n",
    "\n",
    "for i in range(5, 10):\n",
    "    if i<9:\n",
    "        x = block(x, np.power(2,i), (3,3), drop_out=0.2)\n",
    "    else:\n",
    "        x = block(x, np.power(2,i), (3,3))\n",
    "\n",
    "x = layers.GlobalAveragePooling2D(name=\"avg_pool\")(x)\n",
    "x = layers.Dropout(0.3, name=\"top_dropout\")(x)\n",
    "outputs = layers.Dense(13, activation=\"softmax\", name=\"predictions\")(x)\n",
    "\n",
    "# Finally, we define the model by specifying the input and output\n",
    "model = Model(inputs, outputs, name='Custom_model')\n",
    "print(\"Nombre de couches : \", len(model.layers))"
   ]
  },
  {
   "cell_type": "markdown",
   "id": "75a82dc9",
   "metadata": {
    "papermill": {
     "duration": 0.011957,
     "end_time": "2022-07-10T21:45:30.142059",
     "exception": false,
     "start_time": "2022-07-10T21:45:30.130102",
     "status": "completed"
    },
    "tags": []
   },
   "source": [
    "#### Pour améliorer notre modèle, on utilise des callbacks : \n",
    "#### * l'EarlyStopping permet d'arrêter le modèle lorsque celui-ci overfit\n",
    "#### * le ModelCheckpoint va sauvegarder la meilleure version du modèle à chaque époque\n",
    "#### * le ReduceLROnPlateau réduit le taux d'apprentissage lorsqu'une métrique a cessé de s'améliorer."
   ]
  },
  {
   "cell_type": "code",
   "execution_count": 10,
   "id": "2de4fe19",
   "metadata": {
    "execution": {
     "iopub.execute_input": "2022-07-10T21:45:30.168369Z",
     "iopub.status.busy": "2022-07-10T21:45:30.167956Z",
     "iopub.status.idle": "2022-07-10T21:45:30.184212Z",
     "shell.execute_reply": "2022-07-10T21:45:30.178038Z"
    },
    "papermill": {
     "duration": 0.032313,
     "end_time": "2022-07-10T21:45:30.186526",
     "exception": false,
     "start_time": "2022-07-10T21:45:30.154213",
     "status": "completed"
    },
    "tags": []
   },
   "outputs": [],
   "source": [
    "from tensorflow.keras.callbacks import (EarlyStopping, ModelCheckpoint, ReduceLROnPlateau)\n",
    "\n",
    "early_stopping = EarlyStopping(monitor='val_loss',\n",
    "                               patience=4, restore_best_weights=True)\n",
    "\n",
    "# save best model indicating epoch\n",
    "model_save = ModelCheckpoint('./weights/Custom_model_{epoch}.h5',\n",
    "                             save_best_only=True, monitor='val_loss', verbose=1)\n",
    "# Folder to save weights\n",
    "if not os.path.exists('./weights'):\n",
    "    os.makedirs('./weights', mode=0o770, exist_ok=True)\n",
    "    \n",
    "# reduce learning rate if val_loss does not decrease in 2 epochs, cooldown of 1 epoch\n",
    "reduce_lr = ReduceLROnPlateau(monitor='val_loss', factor=0.1, patience=2, cooldown=1, verbose=1)"
   ]
  },
  {
   "cell_type": "code",
   "execution_count": 11,
   "id": "6f3ca4ef",
   "metadata": {
    "execution": {
     "iopub.execute_input": "2022-07-10T21:45:30.213292Z",
     "iopub.status.busy": "2022-07-10T21:45:30.212175Z",
     "iopub.status.idle": "2022-07-10T21:45:30.227092Z",
     "shell.execute_reply": "2022-07-10T21:45:30.224382Z"
    },
    "papermill": {
     "duration": 0.032194,
     "end_time": "2022-07-10T21:45:30.231328",
     "exception": false,
     "start_time": "2022-07-10T21:45:30.199134",
     "status": "completed"
    },
    "tags": []
   },
   "outputs": [
    {
     "name": "stdout",
     "output_type": "stream",
     "text": [
      "Model: \"Custom_model\"\n",
      "_________________________________________________________________\n",
      "Layer (type)                 Output Shape              Param #   \n",
      "=================================================================\n",
      "input_1 (InputLayer)         [(None, 32, 32, 3)]       0         \n",
      "_________________________________________________________________\n",
      "stem_conv2d (Conv2D)         (None, 32, 32, 32)        896       \n",
      "_________________________________________________________________\n",
      "stem_bn (BatchNormalization) (None, 32, 32, 32)        128       \n",
      "_________________________________________________________________\n",
      "stem_activation (Activation) (None, 32, 32, 32)        0         \n",
      "_________________________________________________________________\n",
      "conv6 (Conv2D)               (None, 32, 32, 32)        9248      \n",
      "_________________________________________________________________\n",
      "max_pooling2d (MaxPooling2D) (None, 16, 16, 32)        0         \n",
      "_________________________________________________________________\n",
      "dropout (Dropout)            (None, 16, 16, 32)        0         \n",
      "_________________________________________________________________\n",
      "conv7 (Conv2D)               (None, 16, 16, 64)        18496     \n",
      "_________________________________________________________________\n",
      "max_pooling2d_1 (MaxPooling2 (None, 8, 8, 64)          0         \n",
      "_________________________________________________________________\n",
      "dropout_1 (Dropout)          (None, 8, 8, 64)          0         \n",
      "_________________________________________________________________\n",
      "conv8 (Conv2D)               (None, 8, 8, 128)         73856     \n",
      "_________________________________________________________________\n",
      "max_pooling2d_2 (MaxPooling2 (None, 4, 4, 128)         0         \n",
      "_________________________________________________________________\n",
      "dropout_2 (Dropout)          (None, 4, 4, 128)         0         \n",
      "_________________________________________________________________\n",
      "conv9 (Conv2D)               (None, 4, 4, 256)         295168    \n",
      "_________________________________________________________________\n",
      "max_pooling2d_3 (MaxPooling2 (None, 2, 2, 256)         0         \n",
      "_________________________________________________________________\n",
      "dropout_3 (Dropout)          (None, 2, 2, 256)         0         \n",
      "_________________________________________________________________\n",
      "conv10 (Conv2D)              (None, 2, 2, 512)         1180160   \n",
      "_________________________________________________________________\n",
      "max_pooling2d_4 (MaxPooling2 (None, 1, 1, 512)         0         \n",
      "_________________________________________________________________\n",
      "avg_pool (GlobalAveragePooli (None, 512)               0         \n",
      "_________________________________________________________________\n",
      "top_dropout (Dropout)        (None, 512)               0         \n",
      "_________________________________________________________________\n",
      "predictions (Dense)          (None, 13)                6669      \n",
      "=================================================================\n",
      "Total params: 1,584,621\n",
      "Trainable params: 1,584,557\n",
      "Non-trainable params: 64\n",
      "_________________________________________________________________\n",
      "None\n"
     ]
    }
   ],
   "source": [
    "print(model.summary())"
   ]
  },
  {
   "cell_type": "markdown",
   "id": "84acb356",
   "metadata": {
    "papermill": {
     "duration": 0.012544,
     "end_time": "2022-07-10T21:45:30.258723",
     "exception": false,
     "start_time": "2022-07-10T21:45:30.246179",
     "status": "completed"
    },
    "tags": []
   },
   "source": [
    "# Entrainement de notre modèle"
   ]
  },
  {
   "cell_type": "markdown",
   "id": "9ad1e40d",
   "metadata": {
    "papermill": {
     "duration": 0.012261,
     "end_time": "2022-07-10T21:45:30.283372",
     "exception": false,
     "start_time": "2022-07-10T21:45:30.271111",
     "status": "completed"
    },
    "tags": []
   },
   "source": [
    "#### Nous allons lancer l'entrainement de notre modèle avec 30 époques. Passé 20 époques, le modèle overfit."
   ]
  },
  {
   "cell_type": "code",
   "execution_count": 12,
   "id": "9a0391bf",
   "metadata": {
    "execution": {
     "iopub.execute_input": "2022-07-10T21:45:30.310361Z",
     "iopub.status.busy": "2022-07-10T21:45:30.310019Z",
     "iopub.status.idle": "2022-07-10T21:52:32.747457Z",
     "shell.execute_reply": "2022-07-10T21:52:32.746249Z"
    },
    "papermill": {
     "duration": 422.454339,
     "end_time": "2022-07-10T21:52:32.750189",
     "exception": false,
     "start_time": "2022-07-10T21:45:30.295850",
     "status": "completed"
    },
    "tags": []
   },
   "outputs": [
    {
     "name": "stdout",
     "output_type": "stream",
     "text": [
      "Epoch 1/30\n"
     ]
    },
    {
     "name": "stderr",
     "output_type": "stream",
     "text": [
      "/opt/conda/lib/python3.7/site-packages/keras/backend.py:4907: UserWarning: \"`sparse_categorical_crossentropy` received `from_logits=True`, but the `output` argument was produced by a sigmoid or softmax activation and thus does not represent logits. Was this intended?\"\n",
      "  '\"`sparse_categorical_crossentropy` received `from_logits=True`, but '\n",
      "2022-07-10 21:45:32.139143: I tensorflow/stream_executor/cuda/cuda_dnn.cc:369] Loaded cuDNN version 8005\n"
     ]
    },
    {
     "name": "stdout",
     "output_type": "stream",
     "text": [
      "1283/1283 [==============================] - 19s 9ms/step - loss: 1.6440 - accuracy: 0.4554 - val_loss: 1.5807 - val_accuracy: 0.4777\n",
      "\n",
      "Epoch 00001: val_loss improved from inf to 1.58072, saving model to ./weights/Custom_model_1.h5\n",
      "Epoch 2/30\n",
      "1283/1283 [==============================] - 12s 9ms/step - loss: 1.2002 - accuracy: 0.5940 - val_loss: 1.1317 - val_accuracy: 0.6144\n",
      "\n",
      "Epoch 00002: val_loss improved from 1.58072 to 1.13168, saving model to ./weights/Custom_model_2.h5\n",
      "Epoch 3/30\n",
      "1283/1283 [==============================] - 12s 9ms/step - loss: 1.0685 - accuracy: 0.6356 - val_loss: 1.1316 - val_accuracy: 0.6172\n",
      "\n",
      "Epoch 00003: val_loss improved from 1.13168 to 1.13160, saving model to ./weights/Custom_model_3.h5\n",
      "Epoch 4/30\n",
      "1283/1283 [==============================] - 12s 9ms/step - loss: 0.9829 - accuracy: 0.6632 - val_loss: 0.9923 - val_accuracy: 0.6701\n",
      "\n",
      "Epoch 00004: val_loss improved from 1.13160 to 0.99225, saving model to ./weights/Custom_model_4.h5\n",
      "Epoch 5/30\n",
      "1283/1283 [==============================] - 12s 10ms/step - loss: 0.9241 - accuracy: 0.6812 - val_loss: 0.9435 - val_accuracy: 0.6806\n",
      "\n",
      "Epoch 00005: val_loss improved from 0.99225 to 0.94355, saving model to ./weights/Custom_model_5.h5\n",
      "Epoch 6/30\n",
      "1283/1283 [==============================] - 12s 9ms/step - loss: 0.8817 - accuracy: 0.6979 - val_loss: 0.9953 - val_accuracy: 0.6830\n",
      "\n",
      "Epoch 00006: val_loss did not improve from 0.94355\n",
      "Epoch 7/30\n",
      "1283/1283 [==============================] - 13s 10ms/step - loss: 0.8467 - accuracy: 0.7088 - val_loss: 0.9225 - val_accuracy: 0.6923\n",
      "\n",
      "Epoch 00007: val_loss improved from 0.94355 to 0.92248, saving model to ./weights/Custom_model_7.h5\n",
      "Epoch 8/30\n",
      "1283/1283 [==============================] - 12s 9ms/step - loss: 0.8213 - accuracy: 0.7173 - val_loss: 0.9498 - val_accuracy: 0.6934\n",
      "\n",
      "Epoch 00008: val_loss did not improve from 0.92248\n",
      "Epoch 9/30\n",
      "1283/1283 [==============================] - 13s 10ms/step - loss: 0.7976 - accuracy: 0.7235 - val_loss: 0.9014 - val_accuracy: 0.7010\n",
      "\n",
      "Epoch 00009: val_loss improved from 0.92248 to 0.90145, saving model to ./weights/Custom_model_9.h5\n",
      "Epoch 10/30\n",
      "1283/1283 [==============================] - 12s 9ms/step - loss: 0.7830 - accuracy: 0.7296 - val_loss: 0.8922 - val_accuracy: 0.7101\n",
      "\n",
      "Epoch 00010: val_loss improved from 0.90145 to 0.89223, saving model to ./weights/Custom_model_10.h5\n",
      "Epoch 11/30\n",
      "1283/1283 [==============================] - 13s 10ms/step - loss: 0.7625 - accuracy: 0.7361 - val_loss: 0.8643 - val_accuracy: 0.7202\n",
      "\n",
      "Epoch 00011: val_loss improved from 0.89223 to 0.86429, saving model to ./weights/Custom_model_11.h5\n",
      "Epoch 12/30\n",
      "1283/1283 [==============================] - 12s 9ms/step - loss: 0.7475 - accuracy: 0.7409 - val_loss: 0.8500 - val_accuracy: 0.7200\n",
      "\n",
      "Epoch 00012: val_loss improved from 0.86429 to 0.84997, saving model to ./weights/Custom_model_12.h5\n",
      "Epoch 13/30\n",
      "1283/1283 [==============================] - 12s 9ms/step - loss: 0.7530 - accuracy: 0.7421 - val_loss: 0.9339 - val_accuracy: 0.6967\n",
      "\n",
      "Epoch 00013: val_loss did not improve from 0.84997\n",
      "Epoch 14/30\n",
      "1283/1283 [==============================] - 12s 10ms/step - loss: 0.7256 - accuracy: 0.7506 - val_loss: 0.9003 - val_accuracy: 0.7068\n",
      "\n",
      "Epoch 00014: val_loss did not improve from 0.84997\n",
      "\n",
      "Epoch 00014: ReduceLROnPlateau reducing learning rate to 0.00010000000474974513.\n",
      "Epoch 15/30\n",
      "1283/1283 [==============================] - 12s 9ms/step - loss: 0.5634 - accuracy: 0.8008 - val_loss: 0.8247 - val_accuracy: 0.7459\n",
      "\n",
      "Epoch 00015: val_loss improved from 0.84997 to 0.82474, saving model to ./weights/Custom_model_15.h5\n",
      "Epoch 16/30\n",
      "1283/1283 [==============================] - 12s 9ms/step - loss: 0.5095 - accuracy: 0.8206 - val_loss: 0.8211 - val_accuracy: 0.7498\n",
      "\n",
      "Epoch 00016: val_loss improved from 0.82474 to 0.82111, saving model to ./weights/Custom_model_16.h5\n",
      "Epoch 17/30\n",
      "1283/1283 [==============================] - 12s 9ms/step - loss: 0.4863 - accuracy: 0.8298 - val_loss: 0.8158 - val_accuracy: 0.7486\n",
      "\n",
      "Epoch 00017: val_loss improved from 0.82111 to 0.81575, saving model to ./weights/Custom_model_17.h5\n",
      "Epoch 18/30\n",
      "1283/1283 [==============================] - 12s 9ms/step - loss: 0.4579 - accuracy: 0.8357 - val_loss: 0.8180 - val_accuracy: 0.7522\n",
      "\n",
      "Epoch 00018: val_loss did not improve from 0.81575\n",
      "Epoch 19/30\n",
      "1283/1283 [==============================] - 12s 9ms/step - loss: 0.4369 - accuracy: 0.8426 - val_loss: 0.8117 - val_accuracy: 0.7550\n",
      "\n",
      "Epoch 00019: val_loss improved from 0.81575 to 0.81172, saving model to ./weights/Custom_model_19.h5\n",
      "Epoch 20/30\n",
      "1283/1283 [==============================] - 12s 10ms/step - loss: 0.4297 - accuracy: 0.8492 - val_loss: 0.8257 - val_accuracy: 0.7554\n",
      "\n",
      "Epoch 00020: val_loss did not improve from 0.81172\n",
      "Epoch 21/30\n",
      "1283/1283 [==============================] - 12s 9ms/step - loss: 0.4172 - accuracy: 0.8501 - val_loss: 0.8122 - val_accuracy: 0.7573\n",
      "\n",
      "Epoch 00021: val_loss did not improve from 0.81172\n",
      "\n",
      "Epoch 00021: ReduceLROnPlateau reducing learning rate to 1.0000000474974514e-05.\n",
      "Epoch 22/30\n",
      "1283/1283 [==============================] - 12s 10ms/step - loss: 0.3917 - accuracy: 0.8610 - val_loss: 0.8100 - val_accuracy: 0.7598\n",
      "\n",
      "Epoch 00022: val_loss improved from 0.81172 to 0.80998, saving model to ./weights/Custom_model_22.h5\n",
      "Epoch 23/30\n",
      "1283/1283 [==============================] - 12s 9ms/step - loss: 0.3830 - accuracy: 0.8626 - val_loss: 0.8128 - val_accuracy: 0.7596\n",
      "\n",
      "Epoch 00023: val_loss did not improve from 0.80998\n",
      "Epoch 24/30\n",
      "1283/1283 [==============================] - 12s 9ms/step - loss: 0.3950 - accuracy: 0.8602 - val_loss: 0.8113 - val_accuracy: 0.7609\n",
      "\n",
      "Epoch 00024: val_loss did not improve from 0.80998\n",
      "\n",
      "Epoch 00024: ReduceLROnPlateau reducing learning rate to 1.0000000656873453e-06.\n",
      "Epoch 25/30\n",
      "1283/1283 [==============================] - 13s 10ms/step - loss: 0.3842 - accuracy: 0.8628 - val_loss: 0.8117 - val_accuracy: 0.7609\n",
      "\n",
      "Epoch 00025: val_loss did not improve from 0.80998\n",
      "Epoch 26/30\n",
      "1283/1283 [==============================] - 12s 9ms/step - loss: 0.3832 - accuracy: 0.8628 - val_loss: 0.8112 - val_accuracy: 0.7613\n",
      "\n",
      "Epoch 00026: val_loss did not improve from 0.80998\n",
      "\n",
      "Epoch 00026: ReduceLROnPlateau reducing learning rate to 1.0000001111620805e-07.\n"
     ]
    }
   ],
   "source": [
    "epochs = 30\n",
    "\n",
    "model.compile(\n",
    "    optimizer=keras.optimizers.Adam(1e-3),\n",
    "    loss=tf.keras.losses.SparseCategoricalCrossentropy(from_logits=True),\n",
    "    metrics=[\"accuracy\"],\n",
    ")\n",
    "hist = model.fit(\n",
    "    train_ds, epochs=epochs, callbacks=[model_save, reduce_lr, early_stopping], validation_data=val_ds,\n",
    ")"
   ]
  },
  {
   "cell_type": "markdown",
   "id": "edbbaf77",
   "metadata": {
    "papermill": {
     "duration": 0.344684,
     "end_time": "2022-07-10T21:52:33.397470",
     "exception": false,
     "start_time": "2022-07-10T21:52:33.052786",
     "status": "completed"
    },
    "tags": []
   },
   "source": [
    "# Analyse du modèle"
   ]
  },
  {
   "cell_type": "code",
   "execution_count": 13,
   "id": "8e793705",
   "metadata": {
    "execution": {
     "iopub.execute_input": "2022-07-10T21:52:33.996109Z",
     "iopub.status.busy": "2022-07-10T21:52:33.995729Z",
     "iopub.status.idle": "2022-07-10T21:52:41.788796Z",
     "shell.execute_reply": "2022-07-10T21:52:41.787881Z"
    },
    "papermill": {
     "duration": 8.095554,
     "end_time": "2022-07-10T21:52:41.791214",
     "exception": false,
     "start_time": "2022-07-10T21:52:33.695660",
     "status": "completed"
    },
    "tags": []
   },
   "outputs": [
    {
     "data": {
      "image/png": "[encoded data removed]",
      "text/plain": [
       "<Figure size 864x720 with 1 Axes>"
      ]
     },
     "metadata": {
      "needs_background": "light"
     },
     "output_type": "display_data"
    }
   ],
   "source": [
    "import matplotlib.pyplot as plt\n",
    "\n",
    "def plot_hist(hist, name):\n",
    "        \"\"\"Plots training chart\"\"\"\n",
    "        plt.figure(figsize=[12, 10])\n",
    "        plt.plot(hist.history[\"accuracy\"])\n",
    "        plt.plot(hist.history[\"val_accuracy\"])\n",
    "        plt.plot(hist.history[\"loss\"])\n",
    "        plt.plot(hist.history[\"val_loss\"])\n",
    "        plt.title(f\"{name}\")\n",
    "        plt.ylabel(\"accuracy\")\n",
    "        plt.xlabel(\"epoch\")\n",
    "        plt.ylim(top=1.1)\n",
    "        plt.legend([\"train_acc\", \"validation_acc\", \"train_loss\", \"validation_loss\"], loc=\"upper left\")\n",
    "        plt.savefig(f'{name}_chart.png')\n",
    "        plt.show()\n",
    "\n",
    "plot_hist(hist, name='Custom_model')"
   ]
  },
  {
   "cell_type": "markdown",
   "id": "c6228a3e",
   "metadata": {
    "papermill": {
     "duration": 0.300099,
     "end_time": "2022-07-10T21:52:42.394150",
     "exception": false,
     "start_time": "2022-07-10T21:52:42.094051",
     "status": "completed"
    },
    "tags": []
   },
   "source": [
    "# Résultat à soumettre"
   ]
  },
  {
   "cell_type": "code",
   "execution_count": 14,
   "id": "b4883ca4",
   "metadata": {
    "execution": {
     "iopub.execute_input": "2022-07-10T21:52:43.051617Z",
     "iopub.status.busy": "2022-07-10T21:52:43.051217Z",
     "iopub.status.idle": "2022-07-10T21:52:43.066473Z",
     "shell.execute_reply": "2022-07-10T21:52:43.065560Z"
    },
    "papermill": {
     "duration": 0.328022,
     "end_time": "2022-07-10T21:52:43.068460",
     "exception": false,
     "start_time": "2022-07-10T21:52:42.740438",
     "status": "completed"
    },
    "tags": []
   },
   "outputs": [],
   "source": [
    "X_test = np.load('/kaggle/working/ships_competition.npz', allow_pickle=True)['X']\n",
    "#X_test = X_test.astype('float32') / 255"
   ]
  },
  {
   "cell_type": "code",
   "execution_count": 15,
   "id": "3692d1c7",
   "metadata": {
    "execution": {
     "iopub.execute_input": "2022-07-10T21:52:43.953374Z",
     "iopub.status.busy": "2022-07-10T21:52:43.952797Z",
     "iopub.status.idle": "2022-07-10T21:52:44.333801Z",
     "shell.execute_reply": "2022-07-10T21:52:44.332405Z"
    },
    "papermill": {
     "duration": 0.913154,
     "end_time": "2022-07-10T21:52:44.336941",
     "exception": false,
     "start_time": "2022-07-10T21:52:43.423787",
     "status": "completed"
    },
    "tags": []
   },
   "outputs": [],
   "source": [
    "res = model.predict(X_test).argmax(axis=1)\n",
    "df = pd.DataFrame({\"Category\":res})\n",
    "df.to_csv(\"submission.csv\", index_label=\"Id\")"
   ]
  },
  {
   "cell_type": "code",
   "execution_count": 16,
   "id": "62de7404",
   "metadata": {
    "execution": {
     "iopub.execute_input": "2022-07-10T21:52:45.024188Z",
     "iopub.status.busy": "2022-07-10T21:52:45.023814Z",
     "iopub.status.idle": "2022-07-10T21:52:45.723604Z",
     "shell.execute_reply": "2022-07-10T21:52:45.722427Z"
    },
    "papermill": {
     "duration": 1.01288,
     "end_time": "2022-07-10T21:52:45.725843",
     "exception": false,
     "start_time": "2022-07-10T21:52:44.712963",
     "status": "completed"
    },
    "tags": []
   },
   "outputs": [
    {
     "name": "stdout",
     "output_type": "stream",
     "text": [
      "Id,Category\r\n",
      "0,5\r\n",
      "1,5\r\n",
      "2,7\r\n",
      "3,11\r\n",
      "4,12\r\n",
      "5,5\r\n",
      "6,5\r\n",
      "7,5\r\n",
      "8,7\r\n"
     ]
    }
   ],
   "source": [
    "!head submission.csv"
   ]
  },
  {
   "cell_type": "code",
   "execution_count": 17,
   "id": "3d43e8b4",
   "metadata": {
    "execution": {
     "iopub.execute_input": "2022-07-10T21:52:46.374764Z",
     "iopub.status.busy": "2022-07-10T21:52:46.372819Z",
     "iopub.status.idle": "2022-07-10T21:52:46.381491Z",
     "shell.execute_reply": "2022-07-10T21:52:46.380593Z"
    },
    "papermill": {
     "duration": 0.314066,
     "end_time": "2022-07-10T21:52:46.383375",
     "exception": false,
     "start_time": "2022-07-10T21:52:46.069309",
     "status": "completed"
    },
    "tags": []
   },
   "outputs": [
    {
     "data": {
      "text/html": [
       "<a href='submission.csv' target='_blank'>submission.csv</a><br>"
      ],
      "text/plain": [
       "/kaggle/working/submission.csv"
      ]
     },
     "execution_count": 17,
     "metadata": {},
     "output_type": "execute_result"
    }
   ],
   "source": [
    "import os\n",
    "os.chdir(r'/kaggle/working')\n",
    "from IPython.display import FileLink\n",
    "FileLink(r'submission.csv')"
   ]
  },
  {
   "cell_type": "code",
   "execution_count": 18,
   "id": "699a4c47",
   "metadata": {
    "execution": {
     "iopub.execute_input": "2022-07-10T21:52:46.991532Z",
     "iopub.status.busy": "2022-07-10T21:52:46.991189Z",
     "iopub.status.idle": "2022-07-10T21:52:49.045831Z",
     "shell.execute_reply": "2022-07-10T21:52:49.044448Z"
    },
    "papermill": {
     "duration": 2.363527,
     "end_time": "2022-07-10T21:52:49.048731",
     "exception": false,
     "start_time": "2022-07-10T21:52:46.685204",
     "status": "completed"
    },
    "tags": []
   },
   "outputs": [],
   "source": [
    "!rm -rf ships32/"
   ]
  }
 ],
 "metadata": {
  "kernelspec": {
   "display_name": "Python 3",
   "language": "python",
   "name": "python3"
  },
  "language_info": {
   "codemirror_mode": {
    "name": "ipython",
    "version": 3
   },
   "file_extension": ".py",
   "mimetype": "text/x-python",
   "name": "python",
   "nbconvert_exporter": "python",
   "pygments_lexer": "ipython3",
   "version": "3.7.12"
  },
  "papermill": {
   "default_parameters": {},
   "duration": 465.596589,
   "end_time": "2022-07-10T21:52:52.490073",
   "environment_variables": {},
   "exception": null,
   "input_path": "__notebook__.ipynb",
   "output_path": "__notebook__.ipynb",
   "parameters": {},
   "start_time": "2022-07-10T21:45:06.893484",
   "version": "2.3.4"
  }
 },
 "nbformat": 4,
 "nbformat_minor": 5
}
